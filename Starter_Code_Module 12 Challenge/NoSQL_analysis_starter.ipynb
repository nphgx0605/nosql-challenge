{
 "cells": [
  {
   "cell_type": "markdown",
   "id": "9a57c4c6",
   "metadata": {},
   "source": [
    "# Eat Safe, Love"
   ]
  },
  {
   "cell_type": "markdown",
   "id": "064ef857",
   "metadata": {},
   "source": [
    "## Notebook Set Up"
   ]
  },
  {
   "cell_type": "code",
   "execution_count": 1,
   "id": "3ecdd008",
   "metadata": {},
   "outputs": [],
   "source": [
    "from pymongo import MongoClient\n",
    "import pandas as pd\n",
    "from pprint import pprint"
   ]
  },
  {
   "cell_type": "code",
   "execution_count": 2,
   "id": "59390c4a",
   "metadata": {},
   "outputs": [],
   "source": [
    "# Create an instance of MongoClient\n",
    "mongo = MongoClient(port=27017)"
   ]
  },
  {
   "cell_type": "code",
   "execution_count": 3,
   "id": "71e373c1",
   "metadata": {},
   "outputs": [],
   "source": [
    "# assign the uk_food database to a variable name\n",
    "db = mongo['uk_food']"
   ]
  },
  {
   "cell_type": "code",
   "execution_count": 4,
   "id": "18ab463c",
   "metadata": {},
   "outputs": [
    {
     "name": "stdout",
     "output_type": "stream",
     "text": [
      "['establishments']\n"
     ]
    }
   ],
   "source": [
    "# review the collections in our database\n",
    "print(db.list_collection_names())"
   ]
  },
  {
   "cell_type": "code",
   "execution_count": 6,
   "id": "11c9f11b",
   "metadata": {},
   "outputs": [
    {
     "data": {
      "text/plain": [
       "Collection(Database(MongoClient(host=['localhost:27017'], document_class=dict, tz_aware=False, connect=True), 'uk_food'), 'establishments')"
      ]
     },
     "execution_count": 6,
     "metadata": {},
     "output_type": "execute_result"
    }
   ],
   "source": [
    "# assign the collection to a variable\n",
    "establishments = db['establishments']\n",
    "establishments"
   ]
  },
  {
   "cell_type": "markdown",
   "id": "d5671434",
   "metadata": {},
   "source": [
    "## Part 3: Exploratory Analysis\n",
    "Unless otherwise stated, for each question: \n",
    "* Use `count_documents` to display the number of documents contained in the result.\n",
    "* Display the first document in the results using `pprint`.\n",
    "* Convert the result to a Pandas DataFrame, print the number of rows in the DataFrame, and display the first 10 rows."
   ]
  },
  {
   "cell_type": "markdown",
   "id": "314bd884",
   "metadata": {},
   "source": [
    "### 1. Which establishments have a hygiene score equal to 20?"
   ]
  },
  {
   "cell_type": "code",
   "execution_count": 18,
   "id": "c2da7648",
   "metadata": {},
   "outputs": [
    {
     "name": "stdout",
     "output_type": "stream",
     "text": [
      "41\n",
      "{'AddressLine1': '5-6 Southfields Road',\n",
      " 'AddressLine2': 'Eastbourne',\n",
      " 'AddressLine3': 'East Sussex',\n",
      " 'AddressLine4': '',\n",
      " 'BusinessName': 'The Chase Rest Home',\n",
      " 'BusinessType': 'Caring Premises',\n",
      " 'BusinessTypeID': 5,\n",
      " 'ChangesByServerID': 0,\n",
      " 'Distance': 4613.888288172291,\n",
      " 'FHRSID': 110681,\n",
      " 'LocalAuthorityBusinessID': '4029',\n",
      " 'LocalAuthorityCode': '102',\n",
      " 'LocalAuthorityEmailAddress': 'Customerfirst@eastbourne.gov.uk',\n",
      " 'LocalAuthorityName': 'Eastbourne',\n",
      " 'LocalAuthorityWebSite': 'http://www.eastbourne.gov.uk/foodratings',\n",
      " 'NewRatingPending': False,\n",
      " 'Phone': '',\n",
      " 'PostCode': 'BN21 1BU',\n",
      " 'RatingDate': '2021-09-23T00:00:00',\n",
      " 'RatingKey': 'fhrs_0_en-gb',\n",
      " 'RatingValue': {'$toInt': '$RatingValue'},\n",
      " 'RightToReply': '',\n",
      " 'SchemeType': 'FHRS',\n",
      " '_id': ObjectId('66f5a146afa9b2313a85bfab'),\n",
      " 'geocode': {'latitude': 50.769705, 'longitude': '0.27694', 'longtitude': None},\n",
      " 'links': [{'href': 'https://api.ratings.food.gov.uk/establishments/110681',\n",
      "            'rel': 'self'}],\n",
      " 'meta': {'dataSource': None,\n",
      "          'extractDate': '0001-01-01T00:00:00',\n",
      "          'itemCount': 0,\n",
      "          'pageNumber': 0,\n",
      "          'pageSize': 0,\n",
      "          'returncode': None,\n",
      "          'totalCount': 0,\n",
      "          'totalPages': 0},\n",
      " 'scores': {'ConfidenceInManagement': 20, 'Hygiene': 20, 'Structural': 20}}\n"
     ]
    }
   ],
   "source": [
    "# Find the establishments with a hygiene score of 20\n",
    "query = {\"scores.Hygiene\": 20}\n",
    "\n",
    "# Use count_documents to display the number of documents in the result\n",
    "print(establishments.count_documents(query))\n",
    "\n",
    "# Display the first document in the results using pprint\n",
    "result = db.establishments.find_one(query)\n",
    "pprint(result)"
   ]
  },
  {
   "cell_type": "code",
   "execution_count": 20,
   "id": "a6e5cece",
   "metadata": {},
   "outputs": [
    {
     "name": "stdout",
     "output_type": "stream",
     "text": [
      "Rows in DataFrame:  1\n"
     ]
    },
    {
     "data": {
      "text/html": [
       "<div>\n",
       "<style scoped>\n",
       "    .dataframe tbody tr th:only-of-type {\n",
       "        vertical-align: middle;\n",
       "    }\n",
       "\n",
       "    .dataframe tbody tr th {\n",
       "        vertical-align: top;\n",
       "    }\n",
       "\n",
       "    .dataframe thead th {\n",
       "        text-align: right;\n",
       "    }\n",
       "</style>\n",
       "<table border=\"1\" class=\"dataframe\">\n",
       "  <thead>\n",
       "    <tr style=\"text-align: right;\">\n",
       "      <th></th>\n",
       "      <th>_id</th>\n",
       "      <th>FHRSID</th>\n",
       "      <th>ChangesByServerID</th>\n",
       "      <th>LocalAuthorityBusinessID</th>\n",
       "      <th>BusinessName</th>\n",
       "      <th>BusinessType</th>\n",
       "      <th>BusinessTypeID</th>\n",
       "      <th>AddressLine1</th>\n",
       "      <th>AddressLine2</th>\n",
       "      <th>AddressLine3</th>\n",
       "      <th>...</th>\n",
       "      <th>LocalAuthorityWebSite</th>\n",
       "      <th>LocalAuthorityEmailAddress</th>\n",
       "      <th>scores</th>\n",
       "      <th>SchemeType</th>\n",
       "      <th>geocode</th>\n",
       "      <th>RightToReply</th>\n",
       "      <th>Distance</th>\n",
       "      <th>NewRatingPending</th>\n",
       "      <th>meta</th>\n",
       "      <th>links</th>\n",
       "    </tr>\n",
       "  </thead>\n",
       "  <tbody>\n",
       "    <tr>\n",
       "      <th>0</th>\n",
       "      <td>66f5a146afa9b2313a85bfab</td>\n",
       "      <td>110681</td>\n",
       "      <td>0</td>\n",
       "      <td>4029</td>\n",
       "      <td>The Chase Rest Home</td>\n",
       "      <td>Caring Premises</td>\n",
       "      <td>5</td>\n",
       "      <td>5-6 Southfields Road</td>\n",
       "      <td>Eastbourne</td>\n",
       "      <td>East Sussex</td>\n",
       "      <td>...</td>\n",
       "      <td>http://www.eastbourne.gov.uk/foodratings</td>\n",
       "      <td>Customerfirst@eastbourne.gov.uk</td>\n",
       "      <td>{'Hygiene': 20, 'Structural': 20, 'ConfidenceI...</td>\n",
       "      <td>FHRS</td>\n",
       "      <td>{'longitude': '0.27694', 'latitude': 50.769705...</td>\n",
       "      <td></td>\n",
       "      <td>4613.888288</td>\n",
       "      <td>False</td>\n",
       "      <td>{'dataSource': None, 'extractDate': '0001-01-0...</td>\n",
       "      <td>[{'rel': 'self', 'href': 'https://api.ratings....</td>\n",
       "    </tr>\n",
       "  </tbody>\n",
       "</table>\n",
       "<p>1 rows × 28 columns</p>\n",
       "</div>"
      ],
      "text/plain": [
       "                        _id  FHRSID  ChangesByServerID  \\\n",
       "0  66f5a146afa9b2313a85bfab  110681                  0   \n",
       "\n",
       "  LocalAuthorityBusinessID         BusinessName     BusinessType  \\\n",
       "0                     4029  The Chase Rest Home  Caring Premises   \n",
       "\n",
       "   BusinessTypeID          AddressLine1 AddressLine2 AddressLine3  ...  \\\n",
       "0               5  5-6 Southfields Road   Eastbourne  East Sussex  ...   \n",
       "\n",
       "                      LocalAuthorityWebSite       LocalAuthorityEmailAddress  \\\n",
       "0  http://www.eastbourne.gov.uk/foodratings  Customerfirst@eastbourne.gov.uk   \n",
       "\n",
       "                                              scores SchemeType  \\\n",
       "0  {'Hygiene': 20, 'Structural': 20, 'ConfidenceI...       FHRS   \n",
       "\n",
       "                                             geocode RightToReply  \\\n",
       "0  {'longitude': '0.27694', 'latitude': 50.769705...                \n",
       "\n",
       "      Distance NewRatingPending  \\\n",
       "0  4613.888288            False   \n",
       "\n",
       "                                                meta  \\\n",
       "0  {'dataSource': None, 'extractDate': '0001-01-0...   \n",
       "\n",
       "                                               links  \n",
       "0  [{'rel': 'self', 'href': 'https://api.ratings....  \n",
       "\n",
       "[1 rows x 28 columns]"
      ]
     },
     "execution_count": 20,
     "metadata": {},
     "output_type": "execute_result"
    }
   ],
   "source": [
    "# Convert the result to a Pandas DataFrame\n",
    "result_df = pd.DataFrame([result])\n",
    "\n",
    "# Display the number of rows in the DataFrame\n",
    "print(\"Rows in DataFrame: \", len(result_df))\n",
    "\n",
    "# Display the first 10 rows of the DataFrame\n",
    "result_df.head(10)"
   ]
  },
  {
   "cell_type": "markdown",
   "id": "0ef4395a",
   "metadata": {},
   "source": [
    "### 2. Which establishments in London have a `RatingValue` greater than or equal to 4?"
   ]
  },
  {
   "cell_type": "code",
   "execution_count": 27,
   "id": "93c63829",
   "metadata": {},
   "outputs": [
    {
     "name": "stdout",
     "output_type": "stream",
     "text": [
      "0\n",
      "{'AddressLine1': '5-6 Southfields Road',\n",
      " 'AddressLine2': 'Eastbourne',\n",
      " 'AddressLine3': 'East Sussex',\n",
      " 'AddressLine4': '',\n",
      " 'BusinessName': 'The Chase Rest Home',\n",
      " 'BusinessType': 'Caring Premises',\n",
      " 'BusinessTypeID': 5,\n",
      " 'ChangesByServerID': 0,\n",
      " 'Distance': 4613.888288172291,\n",
      " 'FHRSID': 110681,\n",
      " 'LocalAuthorityBusinessID': '4029',\n",
      " 'LocalAuthorityCode': '102',\n",
      " 'LocalAuthorityEmailAddress': 'Customerfirst@eastbourne.gov.uk',\n",
      " 'LocalAuthorityName': 'Eastbourne',\n",
      " 'LocalAuthorityWebSite': 'http://www.eastbourne.gov.uk/foodratings',\n",
      " 'NewRatingPending': False,\n",
      " 'Phone': '',\n",
      " 'PostCode': 'BN21 1BU',\n",
      " 'RatingDate': '2021-09-23T00:00:00',\n",
      " 'RatingKey': 'fhrs_0_en-gb',\n",
      " 'RatingValue': {'$toInt': '$RatingValue'},\n",
      " 'RightToReply': '',\n",
      " 'SchemeType': 'FHRS',\n",
      " '_id': ObjectId('66f5a146afa9b2313a85bfab'),\n",
      " 'geocode': {'latitude': 50.769705, 'longitude': '0.27694', 'longtitude': None},\n",
      " 'links': [{'href': 'https://api.ratings.food.gov.uk/establishments/110681',\n",
      "            'rel': 'self'}],\n",
      " 'meta': {'dataSource': None,\n",
      "          'extractDate': '0001-01-01T00:00:00',\n",
      "          'itemCount': 0,\n",
      "          'pageNumber': 0,\n",
      "          'pageSize': 0,\n",
      "          'returncode': None,\n",
      "          'totalCount': 0,\n",
      "          'totalPages': 0},\n",
      " 'scores': {'ConfidenceInManagement': 20, 'Hygiene': 20, 'Structural': 20}}\n"
     ]
    }
   ],
   "source": [
    "# Find the establishments with London as the Local Authority and has a RatingValue greater than or equal to 4.\n",
    "query = {\n",
    "    'LocalAuthorityName': 'City of London Corporation',\n",
    "    'RatingValue': {'$gte': 4}\n",
    "}\n",
    "\n",
    "# Use count_documents to display the number of documents in the result\n",
    "print(establishments.count_documents(query))\n",
    "\n",
    "# Display the first document in the results using pprint\n",
    "pprint(result)\n"
   ]
  },
  {
   "cell_type": "code",
   "execution_count": 28,
   "id": "07e24ccb",
   "metadata": {},
   "outputs": [
    {
     "name": "stdout",
     "output_type": "stream",
     "text": [
      "Rows in DataFrame:  1\n"
     ]
    },
    {
     "data": {
      "text/html": [
       "<div>\n",
       "<style scoped>\n",
       "    .dataframe tbody tr th:only-of-type {\n",
       "        vertical-align: middle;\n",
       "    }\n",
       "\n",
       "    .dataframe tbody tr th {\n",
       "        vertical-align: top;\n",
       "    }\n",
       "\n",
       "    .dataframe thead th {\n",
       "        text-align: right;\n",
       "    }\n",
       "</style>\n",
       "<table border=\"1\" class=\"dataframe\">\n",
       "  <thead>\n",
       "    <tr style=\"text-align: right;\">\n",
       "      <th></th>\n",
       "      <th>_id</th>\n",
       "      <th>FHRSID</th>\n",
       "      <th>ChangesByServerID</th>\n",
       "      <th>LocalAuthorityBusinessID</th>\n",
       "      <th>BusinessName</th>\n",
       "      <th>BusinessType</th>\n",
       "      <th>BusinessTypeID</th>\n",
       "      <th>AddressLine1</th>\n",
       "      <th>AddressLine2</th>\n",
       "      <th>AddressLine3</th>\n",
       "      <th>...</th>\n",
       "      <th>LocalAuthorityWebSite</th>\n",
       "      <th>LocalAuthorityEmailAddress</th>\n",
       "      <th>scores</th>\n",
       "      <th>SchemeType</th>\n",
       "      <th>geocode</th>\n",
       "      <th>RightToReply</th>\n",
       "      <th>Distance</th>\n",
       "      <th>NewRatingPending</th>\n",
       "      <th>meta</th>\n",
       "      <th>links</th>\n",
       "    </tr>\n",
       "  </thead>\n",
       "  <tbody>\n",
       "    <tr>\n",
       "      <th>0</th>\n",
       "      <td>66f5a146afa9b2313a85bfab</td>\n",
       "      <td>110681</td>\n",
       "      <td>0</td>\n",
       "      <td>4029</td>\n",
       "      <td>The Chase Rest Home</td>\n",
       "      <td>Caring Premises</td>\n",
       "      <td>5</td>\n",
       "      <td>5-6 Southfields Road</td>\n",
       "      <td>Eastbourne</td>\n",
       "      <td>East Sussex</td>\n",
       "      <td>...</td>\n",
       "      <td>http://www.eastbourne.gov.uk/foodratings</td>\n",
       "      <td>Customerfirst@eastbourne.gov.uk</td>\n",
       "      <td>{'Hygiene': 20, 'Structural': 20, 'ConfidenceI...</td>\n",
       "      <td>FHRS</td>\n",
       "      <td>{'longitude': '0.27694', 'latitude': 50.769705...</td>\n",
       "      <td></td>\n",
       "      <td>4613.888288</td>\n",
       "      <td>False</td>\n",
       "      <td>{'dataSource': None, 'extractDate': '0001-01-0...</td>\n",
       "      <td>[{'rel': 'self', 'href': 'https://api.ratings....</td>\n",
       "    </tr>\n",
       "  </tbody>\n",
       "</table>\n",
       "<p>1 rows × 28 columns</p>\n",
       "</div>"
      ],
      "text/plain": [
       "                        _id  FHRSID  ChangesByServerID  \\\n",
       "0  66f5a146afa9b2313a85bfab  110681                  0   \n",
       "\n",
       "  LocalAuthorityBusinessID         BusinessName     BusinessType  \\\n",
       "0                     4029  The Chase Rest Home  Caring Premises   \n",
       "\n",
       "   BusinessTypeID          AddressLine1 AddressLine2 AddressLine3  ...  \\\n",
       "0               5  5-6 Southfields Road   Eastbourne  East Sussex  ...   \n",
       "\n",
       "                      LocalAuthorityWebSite       LocalAuthorityEmailAddress  \\\n",
       "0  http://www.eastbourne.gov.uk/foodratings  Customerfirst@eastbourne.gov.uk   \n",
       "\n",
       "                                              scores SchemeType  \\\n",
       "0  {'Hygiene': 20, 'Structural': 20, 'ConfidenceI...       FHRS   \n",
       "\n",
       "                                             geocode RightToReply  \\\n",
       "0  {'longitude': '0.27694', 'latitude': 50.769705...                \n",
       "\n",
       "      Distance NewRatingPending  \\\n",
       "0  4613.888288            False   \n",
       "\n",
       "                                                meta  \\\n",
       "0  {'dataSource': None, 'extractDate': '0001-01-0...   \n",
       "\n",
       "                                               links  \n",
       "0  [{'rel': 'self', 'href': 'https://api.ratings....  \n",
       "\n",
       "[1 rows x 28 columns]"
      ]
     },
     "execution_count": 28,
     "metadata": {},
     "output_type": "execute_result"
    }
   ],
   "source": [
    "# Convert the result to a Pandas DataFrame\n",
    "result_df = pd.DataFrame([result])\n",
    "\n",
    "# Display the number of rows in the DataFrame\n",
    "print(\"Rows in DataFrame: \", len(result_df))\n",
    "\n",
    "# Display the first 10 rows of the DataFrame\n",
    "result_df.head(10)"
   ]
  },
  {
   "attachments": {},
   "cell_type": "markdown",
   "id": "4e570caf",
   "metadata": {},
   "source": [
    "### 3. What are the top 5 establishments with a `RatingValue` rating value of 5, sorted by lowest hygiene score, nearest to the new restaurant added, \"Penang Flavours\"?"
   ]
  },
  {
   "cell_type": "code",
   "execution_count": null,
   "id": "7f599f3d",
   "metadata": {},
   "outputs": [],
   "source": [
    "# Search within 0.01 degree on either side of the latitude and longitude.\n",
    "# Rating value must equal 5\n",
    "# Sort by hygiene score\n",
    "\n",
    "degree_search = 0.01\n",
    "latitude =\n",
    "longitude =\n",
    "\n",
    "query =\n",
    "sort =\n",
    "limit =\n",
    "\n",
    "# Print the results\n"
   ]
  },
  {
   "cell_type": "code",
   "execution_count": null,
   "id": "a6ad16f7",
   "metadata": {},
   "outputs": [],
   "source": [
    "# Convert result to Pandas DataFrame\n"
   ]
  },
  {
   "cell_type": "markdown",
   "id": "67281254",
   "metadata": {},
   "source": [
    "### 4. How many establishments in each Local Authority area have a hygiene score of 0?"
   ]
  },
  {
   "cell_type": "code",
   "execution_count": null,
   "id": "4eeb227e",
   "metadata": {},
   "outputs": [],
   "source": [
    "# Create a pipeline that:\n",
    "# 1. Matches establishments with a hygiene score of 0\n",
    "# 2. Groups the matches by Local Authority\n",
    "# 3. Sorts the matches from highest to lowest\n",
    "\n",
    "# Print the number of documents in the result\n",
    "\n",
    "# Print the first 10 results\n"
   ]
  },
  {
   "cell_type": "code",
   "execution_count": null,
   "id": "d8aab364",
   "metadata": {},
   "outputs": [],
   "source": [
    "# Convert the result to a Pandas DataFrame\n",
    "\n",
    "# Display the number of rows in the DataFrame\n",
    "\n",
    "# Display the first 10 rows of the DataFrame\n"
   ]
  }
 ],
 "metadata": {
  "kernelspec": {
   "display_name": "Python 3 (ipykernel)",
   "language": "python",
   "name": "python3"
  },
  "language_info": {
   "codemirror_mode": {
    "name": "ipython",
    "version": 3
   },
   "file_extension": ".py",
   "mimetype": "text/x-python",
   "name": "python",
   "nbconvert_exporter": "python",
   "pygments_lexer": "ipython3",
   "version": "3.11.7"
  }
 },
 "nbformat": 4,
 "nbformat_minor": 5
}
